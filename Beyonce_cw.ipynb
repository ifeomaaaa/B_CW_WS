{
  "nbformat": 4,
  "nbformat_minor": 0,
  "metadata": {
    "colab": {
      "name": "Beyonce_cw.ipynb",
      "provenance": [],
      "authorship_tag": "ABX9TyPWGd4+8gQ98VWfncD5UUOJ"
    },
    "kernelspec": {
      "name": "python3",
      "display_name": "Python 3"
    },
    "language_info": {
      "name": "python"
    }
  },
  "cells": [
    {
      "cell_type": "code",
      "execution_count": 5,
      "metadata": {
        "id": "QzaFU6oCSrqj"
      },
      "outputs": [],
      "source": [
        "#https://infoscilab.ku.edu.kw/extracting-data-from-twitter-using-tweepy/\n",
        "import tweepy\n",
        "import time\n",
        "import csv\n",
        "import pandas as pd\n",
        "\n",
        "\n",
        "consumer_key= 'insert'\n",
        "consumer_secret= 'insert'\n",
        "access_token= 'insert'\n",
        "access_token_secret= 'insert'\n",
        "\n",
        "auth = tweepy.OAuthHandler(consumer_key, consumer_secret)\n",
        "auth.set_access_token(access_token, access_token_secret)\n",
        "api = tweepy.API(auth,wait_on_rate_limit=True,wait_on_rate_limit_notify=True)\n"
      ]
    },
    {
      "cell_type": "code",
      "source": [
        "limit = 10000\n",
        "language = 'en' \n",
        "keywords = 'Beyonce OR renaissance OR #commonwealthgames2022 OR Will Smith'\n",
        "startDate = \"2022-07-29\"\n",
        "endDate = \"2022-07-31\"\n",
        "\n",
        "# Passing the parameters into the Cursor constructor method\n",
        "public_tweets = tweepy.Cursor( api.search,\n",
        "                                q= keywords,\n",
        "                                result_type='recent',\n",
        "                                since = startDate,\n",
        "                                until = endDate,\n",
        "                                count=100,\n",
        "                                include_entities=True,\n",
        "                                lang=language,\n",
        "                                tweet_mode=\"extended\",\n",
        "                                encoding='utf-8-sig').items(limit)"
      ],
      "metadata": {
        "id": "aHa1ALV-TcCw"
      },
      "execution_count": 15,
      "outputs": []
    },
    {
      "cell_type": "code",
      "source": [
        "tweet_id_list = []\n",
        "tweet_text_list = []\n",
        "tweet_location_list = []\n",
        "tweet_geo_list = []\n",
        "user_screen_name_list = []\n",
        "tweet_created_list = []\n",
        "tweet_contributors_list = []\n",
        "tweet_entities_list =[]\n",
        "tweet_retweet_count_list = []\n",
        "tweet_source_list = []\n",
        "tweet_username_list = []\n",
        "tweet_followers_count_list = []\n",
        "friends_count_List = []\n",
        "user_url_list = []\n",
        "user_desc_list = []\n",
        "\n",
        "\n",
        "# Iterating through the results to extract the results\n",
        "for tweet in public_tweets:\n",
        "    tweet_id_list.append(tweet.id)\n",
        "    tweet_text_list.append(tweet.full_text)\n",
        "    tweet_location_list.append(tweet.user.location)\n",
        "    tweet_geo_list.append(tweet.geo)\n",
        "    user_screen_name_list.append(tweet.user.screen_name)\n",
        "    user_url_list.append(tweet.user.url)\n",
        "    user_desc_list.append(tweet.user.description)\n",
        "    tweet_source_list.append(tweet.source)\n",
        "    tweet_created_list.append(tweet.created_at)\n",
        "    tweet_contributors_list.append(tweet.id_str)\n",
        "    tweet_entities_list.append (tweet.entities)\n",
        "    tweet_retweet_count_list.append(tweet.retweet_count)\n",
        "    tweet_username_list.append(tweet.user.name)\n",
        "    tweet_followers_count_list.append(tweet.user.followers_count)\n",
        "    friends_count_List.append(tweet.user.friends_count)\n",
        "\n",
        "# Creating a Pandas dataframe to organize the data into a table\n",
        "df = pd.DataFrame({\n",
        "    'tweet_id': tweet_id_list,\n",
        "    'tweet_text': tweet_text_list,\n",
        "    'tweet_location': tweet_location_list,\n",
        "    'tweet_geo':tweet_geo_list,\n",
        "    'user_screen': user_screen_name_list,\n",
        "    'url' : user_url_list,\n",
        "    'user_desc': user_desc_list,\n",
        "    'tweet_source': tweet_source_list,\n",
        "    'tweet_created': tweet_created_list,\n",
        "    'tweet_contributors': tweet_contributors_list,\n",
        "    'tweet_entities': tweet_entities_list,\n",
        "    'tweet_retweet_count': tweet_retweet_count_list,\n",
        "    'tweet_username': tweet_username_list,\n",
        "    'tweet_followers_count': tweet_followers_count_list,\n",
        "    'friends_count':friends_count_List})"
      ],
      "metadata": {
        "colab": {
          "base_uri": "https://localhost:8080/"
        },
        "id": "hmPANj2MXD5h",
        "outputId": "a4ec2b38-6c0b-44e0-a96c-0210ceb426c9"
      },
      "execution_count": null,
      "outputs": [
        {
          "output_type": "stream",
          "name": "stderr",
          "text": [
            "WARNING:tweepy.binder:Rate limit reached. Sleeping for: 530\n"
          ]
        }
      ]
    },
    {
      "cell_type": "code",
      "source": [
        "df.head()"
      ],
      "metadata": {
        "id": "1xq7Y2KUXbdB"
      },
      "execution_count": null,
      "outputs": []
    },
    {
      "cell_type": "code",
      "source": [
        "# Converting the dataframe to CSV file\n",
        "df.to_csv('Beyonce_CW.csv', sep=',', index=False, encoding='utf-8-sig')\n",
        "\n",
        "# Saving the file to Google drive\n",
        "\n",
        "file_name = \"Beyonce_CW.csv\""
      ],
      "metadata": {
        "id": "tHAGjNf-YB80"
      },
      "execution_count": 12,
      "outputs": []
    },
    {
      "cell_type": "code",
      "source": [
        "from google.colab import files\n",
        "files.download(\"Beyonce_CW.csv\")"
      ],
      "metadata": {
        "colab": {
          "base_uri": "https://localhost:8080/",
          "height": 17
        },
        "id": "ZXCA0Q5YYIV_",
        "outputId": "4374652a-84d4-42ac-f0c9-ad45aa6b4656"
      },
      "execution_count": 14,
      "outputs": [
        {
          "output_type": "display_data",
          "data": {
            "text/plain": [
              "<IPython.core.display.Javascript object>"
            ],
            "application/javascript": [
              "\n",
              "    async function download(id, filename, size) {\n",
              "      if (!google.colab.kernel.accessAllowed) {\n",
              "        return;\n",
              "      }\n",
              "      const div = document.createElement('div');\n",
              "      const label = document.createElement('label');\n",
              "      label.textContent = `Downloading \"${filename}\": `;\n",
              "      div.appendChild(label);\n",
              "      const progress = document.createElement('progress');\n",
              "      progress.max = size;\n",
              "      div.appendChild(progress);\n",
              "      document.body.appendChild(div);\n",
              "\n",
              "      const buffers = [];\n",
              "      let downloaded = 0;\n",
              "\n",
              "      const channel = await google.colab.kernel.comms.open(id);\n",
              "      // Send a message to notify the kernel that we're ready.\n",
              "      channel.send({})\n",
              "\n",
              "      for await (const message of channel.messages) {\n",
              "        // Send a message to notify the kernel that we're ready.\n",
              "        channel.send({})\n",
              "        if (message.buffers) {\n",
              "          for (const buffer of message.buffers) {\n",
              "            buffers.push(buffer);\n",
              "            downloaded += buffer.byteLength;\n",
              "            progress.value = downloaded;\n",
              "          }\n",
              "        }\n",
              "      }\n",
              "      const blob = new Blob(buffers, {type: 'application/binary'});\n",
              "      const a = document.createElement('a');\n",
              "      a.href = window.URL.createObjectURL(blob);\n",
              "      a.download = filename;\n",
              "      div.appendChild(a);\n",
              "      a.click();\n",
              "      div.remove();\n",
              "    }\n",
              "  "
            ]
          },
          "metadata": {}
        },
        {
          "output_type": "display_data",
          "data": {
            "text/plain": [
              "<IPython.core.display.Javascript object>"
            ],
            "application/javascript": [
              "download(\"download_47a36f90-4e00-46f1-bc4d-73ef1879f93f\", \"Beyonce_CW.csv\", 11600668)"
            ]
          },
          "metadata": {}
        }
      ]
    }
  ]
}